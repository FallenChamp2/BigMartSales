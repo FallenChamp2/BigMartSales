{
 "cells": [
  {
   "cell_type": "code",
   "execution_count": 1,
   "metadata": {},
   "outputs": [
    {
     "data": {
      "text/html": [
       "<div>\n",
       "<style scoped>\n",
       "    .dataframe tbody tr th:only-of-type {\n",
       "        vertical-align: middle;\n",
       "    }\n",
       "\n",
       "    .dataframe tbody tr th {\n",
       "        vertical-align: top;\n",
       "    }\n",
       "\n",
       "    .dataframe thead th {\n",
       "        text-align: right;\n",
       "    }\n",
       "</style>\n",
       "<table border=\"1\" class=\"dataframe\">\n",
       "  <thead>\n",
       "    <tr style=\"text-align: right;\">\n",
       "      <th></th>\n",
       "      <th>Item_Identifier</th>\n",
       "      <th>Item_Weight</th>\n",
       "      <th>Item_Fat_Content</th>\n",
       "      <th>Item_Visibility</th>\n",
       "      <th>Item_Type</th>\n",
       "      <th>Item_MRP</th>\n",
       "      <th>Outlet_Identifier</th>\n",
       "      <th>Outlet_Establishment_Year</th>\n",
       "      <th>Outlet_Size</th>\n",
       "      <th>Outlet_Location_Type</th>\n",
       "      <th>Outlet_Type</th>\n",
       "      <th>Item_Outlet_Sales</th>\n",
       "    </tr>\n",
       "  </thead>\n",
       "  <tbody>\n",
       "    <tr>\n",
       "      <th>0</th>\n",
       "      <td>FDA15</td>\n",
       "      <td>9.30</td>\n",
       "      <td>Low Fat</td>\n",
       "      <td>0.016047</td>\n",
       "      <td>Dairy</td>\n",
       "      <td>249.8092</td>\n",
       "      <td>OUT049</td>\n",
       "      <td>1999</td>\n",
       "      <td>Medium</td>\n",
       "      <td>Tier 1</td>\n",
       "      <td>Supermarket Type1</td>\n",
       "      <td>3735.1380</td>\n",
       "    </tr>\n",
       "    <tr>\n",
       "      <th>1</th>\n",
       "      <td>DRC01</td>\n",
       "      <td>5.92</td>\n",
       "      <td>Regular</td>\n",
       "      <td>0.019278</td>\n",
       "      <td>Soft Drinks</td>\n",
       "      <td>48.2692</td>\n",
       "      <td>OUT018</td>\n",
       "      <td>2009</td>\n",
       "      <td>Medium</td>\n",
       "      <td>Tier 3</td>\n",
       "      <td>Supermarket Type2</td>\n",
       "      <td>443.4228</td>\n",
       "    </tr>\n",
       "    <tr>\n",
       "      <th>2</th>\n",
       "      <td>FDN15</td>\n",
       "      <td>17.50</td>\n",
       "      <td>Low Fat</td>\n",
       "      <td>0.016760</td>\n",
       "      <td>Meat</td>\n",
       "      <td>141.6180</td>\n",
       "      <td>OUT049</td>\n",
       "      <td>1999</td>\n",
       "      <td>Medium</td>\n",
       "      <td>Tier 1</td>\n",
       "      <td>Supermarket Type1</td>\n",
       "      <td>2097.2700</td>\n",
       "    </tr>\n",
       "    <tr>\n",
       "      <th>3</th>\n",
       "      <td>FDX07</td>\n",
       "      <td>19.20</td>\n",
       "      <td>Regular</td>\n",
       "      <td>0.000000</td>\n",
       "      <td>Fruits and Vegetables</td>\n",
       "      <td>182.0950</td>\n",
       "      <td>OUT010</td>\n",
       "      <td>1998</td>\n",
       "      <td>NaN</td>\n",
       "      <td>Tier 3</td>\n",
       "      <td>Grocery Store</td>\n",
       "      <td>732.3800</td>\n",
       "    </tr>\n",
       "    <tr>\n",
       "      <th>4</th>\n",
       "      <td>NCD19</td>\n",
       "      <td>8.93</td>\n",
       "      <td>Low Fat</td>\n",
       "      <td>0.000000</td>\n",
       "      <td>Household</td>\n",
       "      <td>53.8614</td>\n",
       "      <td>OUT013</td>\n",
       "      <td>1987</td>\n",
       "      <td>High</td>\n",
       "      <td>Tier 3</td>\n",
       "      <td>Supermarket Type1</td>\n",
       "      <td>994.7052</td>\n",
       "    </tr>\n",
       "  </tbody>\n",
       "</table>\n",
       "</div>"
      ],
      "text/plain": [
       "  Item_Identifier  Item_Weight Item_Fat_Content  Item_Visibility  \\\n",
       "0           FDA15         9.30          Low Fat         0.016047   \n",
       "1           DRC01         5.92          Regular         0.019278   \n",
       "2           FDN15        17.50          Low Fat         0.016760   \n",
       "3           FDX07        19.20          Regular         0.000000   \n",
       "4           NCD19         8.93          Low Fat         0.000000   \n",
       "\n",
       "               Item_Type  Item_MRP Outlet_Identifier  \\\n",
       "0                  Dairy  249.8092            OUT049   \n",
       "1            Soft Drinks   48.2692            OUT018   \n",
       "2                   Meat  141.6180            OUT049   \n",
       "3  Fruits and Vegetables  182.0950            OUT010   \n",
       "4              Household   53.8614            OUT013   \n",
       "\n",
       "   Outlet_Establishment_Year Outlet_Size Outlet_Location_Type  \\\n",
       "0                       1999      Medium               Tier 1   \n",
       "1                       2009      Medium               Tier 3   \n",
       "2                       1999      Medium               Tier 1   \n",
       "3                       1998         NaN               Tier 3   \n",
       "4                       1987        High               Tier 3   \n",
       "\n",
       "         Outlet_Type  Item_Outlet_Sales  \n",
       "0  Supermarket Type1          3735.1380  \n",
       "1  Supermarket Type2           443.4228  \n",
       "2  Supermarket Type1          2097.2700  \n",
       "3      Grocery Store           732.3800  \n",
       "4  Supermarket Type1           994.7052  "
      ]
     },
     "execution_count": 1,
     "metadata": {},
     "output_type": "execute_result"
    }
   ],
   "source": [
    "import pandas as pd\n",
    "import numpy as np\n",
    "BMS = pd.read_csv('train_V9rqX0R.csv')\n",
    "BMS.head()"
   ]
  },
  {
   "cell_type": "code",
   "execution_count": 2,
   "metadata": {},
   "outputs": [
    {
     "data": {
      "text/plain": [
       "(8523, 12)"
      ]
     },
     "execution_count": 2,
     "metadata": {},
     "output_type": "execute_result"
    }
   ],
   "source": [
    "BMS.shape"
   ]
  },
  {
   "cell_type": "code",
   "execution_count": 3,
   "metadata": {},
   "outputs": [
    {
     "name": "stdout",
     "output_type": "stream",
     "text": [
      "<class 'pandas.core.frame.DataFrame'>\n",
      "RangeIndex: 8523 entries, 0 to 8522\n",
      "Data columns (total 12 columns):\n",
      " #   Column                     Non-Null Count  Dtype  \n",
      "---  ------                     --------------  -----  \n",
      " 0   Item_Identifier            8523 non-null   object \n",
      " 1   Item_Weight                7060 non-null   float64\n",
      " 2   Item_Fat_Content           8523 non-null   object \n",
      " 3   Item_Visibility            8523 non-null   float64\n",
      " 4   Item_Type                  8523 non-null   object \n",
      " 5   Item_MRP                   8523 non-null   float64\n",
      " 6   Outlet_Identifier          8523 non-null   object \n",
      " 7   Outlet_Establishment_Year  8523 non-null   int64  \n",
      " 8   Outlet_Size                6113 non-null   object \n",
      " 9   Outlet_Location_Type       8523 non-null   object \n",
      " 10  Outlet_Type                8523 non-null   object \n",
      " 11  Item_Outlet_Sales          8523 non-null   float64\n",
      "dtypes: float64(4), int64(1), object(7)\n",
      "memory usage: 799.2+ KB\n"
     ]
    }
   ],
   "source": [
    "BMS.info()"
   ]
  },
  {
   "cell_type": "code",
   "execution_count": 4,
   "metadata": {},
   "outputs": [
    {
     "data": {
      "text/plain": [
       "Item_Identifier                 0\n",
       "Item_Weight                  1463\n",
       "Item_Fat_Content                0\n",
       "Item_Visibility                 0\n",
       "Item_Type                       0\n",
       "Item_MRP                        0\n",
       "Outlet_Identifier               0\n",
       "Outlet_Establishment_Year       0\n",
       "Outlet_Size                  2410\n",
       "Outlet_Location_Type            0\n",
       "Outlet_Type                     0\n",
       "Item_Outlet_Sales               0\n",
       "dtype: int64"
      ]
     },
     "execution_count": 4,
     "metadata": {},
     "output_type": "execute_result"
    }
   ],
   "source": [
    "BMS.isnull().sum()"
   ]
  },
  {
   "cell_type": "code",
   "execution_count": 5,
   "metadata": {},
   "outputs": [
    {
     "data": {
      "text/plain": [
       "Item_Type\n",
       "Baking Goods             12.277108\n",
       "Breads                   11.346936\n",
       "Breakfast                12.768202\n",
       "Canned                   12.305705\n",
       "Dairy                    13.426069\n",
       "Frozen Foods             12.867061\n",
       "Fruits and Vegetables    13.224769\n",
       "Hard Drinks              11.400328\n",
       "Health and Hygiene       13.142314\n",
       "Household                13.384736\n",
       "Meat                     12.817344\n",
       "Others                   13.853285\n",
       "Seafood                  12.552843\n",
       "Snack Foods              12.987880\n",
       "Soft Drinks              11.847460\n",
       "Starchy Foods            13.690731\n",
       "Name: Item_Weight, dtype: float64"
      ]
     },
     "execution_count": 5,
     "metadata": {},
     "output_type": "execute_result"
    }
   ],
   "source": [
    "BMS.groupby('Item_Type').mean()['Item_Weight']"
   ]
  },
  {
   "cell_type": "code",
   "execution_count": 6,
   "metadata": {},
   "outputs": [],
   "source": [
    "def fillw(w):\n",
    "    if(pd.isnull(w['Item_Weight'])):\n",
    "        w['Item_Weight'] = BMS.groupby('Item_Type').mean()['Item_Weight'][w['Item_Type']]\n",
    "    else:\n",
    "        w = w\n",
    "    \n",
    "    \n",
    "    return w    \n",
    "    \n",
    "BMS = BMS.apply(fillw, axis = 1)    "
   ]
  },
  {
   "cell_type": "code",
   "execution_count": 7,
   "metadata": {},
   "outputs": [
    {
     "data": {
      "text/plain": [
       "0     9.30000\n",
       "1     5.92000\n",
       "2    17.50000\n",
       "3    19.20000\n",
       "4     8.93000\n",
       "5    10.39500\n",
       "6    13.65000\n",
       "7    12.98788\n",
       "8    16.20000\n",
       "9    19.20000\n",
       "Name: Item_Weight, dtype: float64"
      ]
     },
     "execution_count": 7,
     "metadata": {},
     "output_type": "execute_result"
    }
   ],
   "source": [
    "BMS['Item_Weight'].head(10)"
   ]
  },
  {
   "cell_type": "code",
   "execution_count": 10,
   "metadata": {},
   "outputs": [
    {
     "data": {
      "text/plain": [
       "Item_Type\n",
       "Dairy                    13.426069\n",
       "Soft Drinks              11.847460\n",
       "Meat                     12.817344\n",
       "Fruits and Vegetables    13.224769\n",
       "Household                13.384736\n",
       "                           ...    \n",
       "Snack Foods              12.987880\n",
       "Baking Goods             12.277108\n",
       "Health and Hygiene       13.142314\n",
       "Snack Foods              12.987880\n",
       "Soft Drinks              11.847460\n",
       "Name: Item_Weight, Length: 8523, dtype: float64"
      ]
     },
     "execution_count": 10,
     "metadata": {},
     "output_type": "execute_result"
    }
   ],
   "source": [
    "BMS.groupby('Item_Type').mean()['Item_Weight'][BMS['Item_Type']]\n",
    "#First part is regular, for every Item_Type it calculates the mean value\n",
    "#After adding the second part [BMS['Item_Type']] it calculates or shows(if already exists) the mean for the entire dataset available"
   ]
  },
  {
   "cell_type": "code",
   "execution_count": 11,
   "metadata": {},
   "outputs": [],
   "source": [
    "def fills(s):\n",
    "    if(pd.isnull(s['Outlet_Size'])):\n",
    "        if(s['Outlet_Size'] == 'Supermarket Type1'):\n",
    "            s['Outlet_Size'] = 'Small'\n",
    "            \n",
    "        elif(s['Outlet_Size'] == 'Supermarket Type2'):\n",
    "            s['Outlet_Size'] = 'Medium'\n",
    "            \n",
    "        elif(s['Outlet_Size'] == 'Supermarket Type3'):\n",
    "            s['Outlet_Size'] = 'Medium'\n",
    "            \n",
    "        else:\n",
    "            s['Outlet_Size'] = 'Small'\n",
    "            \n",
    "    else:\n",
    "        s = s\n",
    "        \n",
    "    return s    \n",
    "            \n",
    "BMS = BMS.apply(fills, axis = 1)        "
   ]
  },
  {
   "cell_type": "code",
   "execution_count": 12,
   "metadata": {},
   "outputs": [
    {
     "data": {
      "text/plain": [
       "array(['Supermarket Type1', 'Supermarket Type2', 'Grocery Store',\n",
       "       'Supermarket Type3'], dtype=object)"
      ]
     },
     "execution_count": 12,
     "metadata": {},
     "output_type": "execute_result"
    }
   ],
   "source": [
    "BMS['Outlet_Type'].unique()"
   ]
  },
  {
   "cell_type": "code",
   "execution_count": 13,
   "metadata": {},
   "outputs": [
    {
     "data": {
      "text/plain": [
       "Item_Identifier              0\n",
       "Item_Weight                  0\n",
       "Item_Fat_Content             0\n",
       "Item_Visibility              0\n",
       "Item_Type                    0\n",
       "Item_MRP                     0\n",
       "Outlet_Identifier            0\n",
       "Outlet_Establishment_Year    0\n",
       "Outlet_Size                  0\n",
       "Outlet_Location_Type         0\n",
       "Outlet_Type                  0\n",
       "Item_Outlet_Sales            0\n",
       "dtype: int64"
      ]
     },
     "execution_count": 13,
     "metadata": {},
     "output_type": "execute_result"
    }
   ],
   "source": [
    "BMS.isnull().sum()"
   ]
  },
  {
   "cell_type": "code",
   "execution_count": 14,
   "metadata": {},
   "outputs": [],
   "source": [
    "from sklearn.preprocessing import MinMaxScaler\n",
    "scaler = MinMaxScaler()"
   ]
  },
  {
   "cell_type": "code",
   "execution_count": 15,
   "metadata": {},
   "outputs": [],
   "source": [
    "IW = BMS['Item_Weight'].values\n",
    "IW = IW.reshape(-1, 1)\n",
    "BMS['Item_Weight'] = scaler.fit_transform(IW)"
   ]
  },
  {
   "cell_type": "code",
   "execution_count": 16,
   "metadata": {},
   "outputs": [],
   "source": [
    "IV = BMS['Item_Visibility'].values\n",
    "IV = IV.reshape(-1, 1)\n",
    "BMS['Item_Visibility'] = scaler.fit_transform(IV)"
   ]
  },
  {
   "cell_type": "code",
   "execution_count": 17,
   "metadata": {},
   "outputs": [],
   "source": [
    "MRP = BMS['Item_MRP'].values\n",
    "MRP = MRP.reshape(-1, 1)\n",
    "BMS['Item_MRP'] = scaler.fit_transform(MRP)"
   ]
  },
  {
   "cell_type": "code",
   "execution_count": 18,
   "metadata": {},
   "outputs": [],
   "source": [
    "OEY = BMS['Outlet_Establishment_Year'].values\n",
    "OEY = OEY.reshape(-1, 1)\n",
    "BMS['Outlet_Establishment_Year'] = scaler.fit_transform(OEY)"
   ]
  },
  {
   "cell_type": "code",
   "execution_count": 19,
   "metadata": {},
   "outputs": [
    {
     "data": {
      "text/plain": [
       "array(['Low Fat', 'Regular', 'low fat', 'LF', 'reg'], dtype=object)"
      ]
     },
     "execution_count": 19,
     "metadata": {},
     "output_type": "execute_result"
    }
   ],
   "source": [
    "BMS['Item_Fat_Content'].unique()"
   ]
  },
  {
   "cell_type": "code",
   "execution_count": 20,
   "metadata": {},
   "outputs": [],
   "source": [
    "length = BMS['Item_Fat_Content'].size"
   ]
  },
  {
   "cell_type": "code",
   "execution_count": 21,
   "metadata": {},
   "outputs": [],
   "source": [
    "def cleaning(x):\n",
    "    if(x == 'low fat'):\n",
    "        x = 'Low Fat'\n",
    "    elif(x == 'LF'):\n",
    "        x = 'Low Fat'\n",
    "    elif(x == 'reg'):\n",
    "        x = 'Regular'\n",
    "    else:\n",
    "        x = x\n",
    "    return x\n",
    "\n",
    "BMS['Item_Fat_Content'] = BMS['Item_Fat_Content'].apply(lambda x: cleaning(x))"
   ]
  },
  {
   "cell_type": "code",
   "execution_count": 22,
   "metadata": {},
   "outputs": [],
   "source": [
    "def fat(x):\n",
    "    if(x == 'Low Fat'):\n",
    "        x = 1\n",
    "    else:\n",
    "        x = 0\n",
    "        \n",
    "    return x\n",
    "\n",
    "BMS['Item_Fat_Content'] = BMS['Item_Fat_Content'].apply(lambda x: fat(x))"
   ]
  },
  {
   "cell_type": "code",
   "execution_count": 23,
   "metadata": {},
   "outputs": [
    {
     "data": {
      "text/plain": [
       "0    1\n",
       "1    0\n",
       "2    1\n",
       "3    0\n",
       "4    1\n",
       "5    0\n",
       "6    0\n",
       "7    1\n",
       "8    0\n",
       "9    0\n",
       "Name: Item_Fat_Content, dtype: int64"
      ]
     },
     "execution_count": 23,
     "metadata": {},
     "output_type": "execute_result"
    }
   ],
   "source": [
    "BMS['Item_Fat_Content'].head(10)"
   ]
  },
  {
   "cell_type": "code",
   "execution_count": 24,
   "metadata": {},
   "outputs": [
    {
     "data": {
      "text/plain": [
       "array(['Dairy', 'Soft Drinks', 'Meat', 'Fruits and Vegetables',\n",
       "       'Household', 'Baking Goods', 'Snack Foods', 'Frozen Foods',\n",
       "       'Breakfast', 'Health and Hygiene', 'Hard Drinks', 'Canned',\n",
       "       'Breads', 'Starchy Foods', 'Others', 'Seafood'], dtype=object)"
      ]
     },
     "execution_count": 24,
     "metadata": {},
     "output_type": "execute_result"
    }
   ],
   "source": [
    "BMS['Item_Type'].unique()"
   ]
  },
  {
   "cell_type": "code",
   "execution_count": 25,
   "metadata": {},
   "outputs": [],
   "source": [
    "def food(x):\n",
    "    if(x == 'Dairy'):\n",
    "        x = 1\n",
    "    elif(x == 'Soft Drinks'):\n",
    "        x = 2\n",
    "    elif(x == 'Meat'):\n",
    "        x = 3\n",
    "    elif(x == 'Household'):\n",
    "        x = 4\n",
    "    elif(x == 'Baking Goods'):\n",
    "        x = 5\n",
    "    elif(x == 'Snack Foods'):\n",
    "        x = 6\n",
    "    elif(x == 'Fruits and Vegetables'):\n",
    "        x = 7\n",
    "    elif(x == 'Breakfast'):\n",
    "        x = 8\n",
    "    elif(x == 'Health and Hygiene'):\n",
    "        x = 9\n",
    "    elif(x == 'Frozen Foods'):\n",
    "        x = 10\n",
    "    elif(x == 'Hard Drinks'):\n",
    "        x = 11\n",
    "    elif(x == 'Canned'):\n",
    "        x = 12\n",
    "    elif(x == 'Starchy Foods'):\n",
    "        x = 13\n",
    "    elif(x == 'Breads'):\n",
    "        x = 14\n",
    "    elif(x == 'Others'):\n",
    "        x = 15\n",
    "    elif(x == 'Seafood'):\n",
    "        x = 16\n",
    "    else:\n",
    "        x = 17\n",
    "        \n",
    "    return x\n",
    "\n",
    "BMS['Item_Type'] = BMS['Item_Type'].apply(lambda x: food(x))"
   ]
  },
  {
   "cell_type": "code",
   "execution_count": 26,
   "metadata": {},
   "outputs": [],
   "source": [
    "X = BMS"
   ]
  },
  {
   "cell_type": "code",
   "execution_count": 27,
   "metadata": {},
   "outputs": [],
   "source": [
    "X = X.drop(['Outlet_Identifier', 'Item_Identifier'], axis = 1)"
   ]
  },
  {
   "cell_type": "code",
   "execution_count": 28,
   "metadata": {},
   "outputs": [
    {
     "name": "stdout",
     "output_type": "stream",
     "text": [
      "<class 'pandas.core.frame.DataFrame'>\n",
      "RangeIndex: 8523 entries, 0 to 8522\n",
      "Data columns (total 10 columns):\n",
      " #   Column                     Non-Null Count  Dtype  \n",
      "---  ------                     --------------  -----  \n",
      " 0   Item_Weight                8523 non-null   float64\n",
      " 1   Item_Fat_Content           8523 non-null   int64  \n",
      " 2   Item_Visibility            8523 non-null   float64\n",
      " 3   Item_Type                  8523 non-null   int64  \n",
      " 4   Item_MRP                   8523 non-null   float64\n",
      " 5   Outlet_Establishment_Year  8523 non-null   float64\n",
      " 6   Outlet_Size                8523 non-null   object \n",
      " 7   Outlet_Location_Type       8523 non-null   object \n",
      " 8   Outlet_Type                8523 non-null   object \n",
      " 9   Item_Outlet_Sales          8523 non-null   float64\n",
      "dtypes: float64(5), int64(2), object(3)\n",
      "memory usage: 666.0+ KB\n"
     ]
    }
   ],
   "source": [
    "X.info()"
   ]
  },
  {
   "cell_type": "code",
   "execution_count": 29,
   "metadata": {},
   "outputs": [],
   "source": [
    "def size(x):\n",
    "    if(x == 'Medium'):\n",
    "        x = 1\n",
    "    elif(x == 'High'):\n",
    "        x = 2\n",
    "    else:\n",
    "        x = 3\n",
    "    return x\n",
    "\n",
    "X['Outlet_Size'] = X['Outlet_Size'].apply(lambda x: size(x))"
   ]
  },
  {
   "cell_type": "code",
   "execution_count": 30,
   "metadata": {},
   "outputs": [],
   "source": [
    "def Type(x):\n",
    "    if(x == 'Tier 1'):\n",
    "        x = 1\n",
    "    elif(x == 'Tier 2'):\n",
    "        x = 2\n",
    "    else:\n",
    "        x = 3\n",
    "    return x\n",
    "\n",
    "X['Outlet_Location_Type'] = X['Outlet_Location_Type'].apply(lambda x: Type(x))"
   ]
  },
  {
   "cell_type": "code",
   "execution_count": 31,
   "metadata": {},
   "outputs": [],
   "source": [
    "def supermarket(x):\n",
    "    if(x == 'Supermarket Type1'):\n",
    "        x = 1\n",
    "    elif(x == 'Supermarket Type2'):\n",
    "        x = 2\n",
    "    elif(x == 'Supermarket Type3'):\n",
    "        x = 3\n",
    "    else:\n",
    "        x = 4\n",
    "    return x\n",
    "\n",
    "X['Outlet_Type'] = X['Outlet_Type'].apply(lambda x: supermarket(x))"
   ]
  },
  {
   "cell_type": "code",
   "execution_count": 32,
   "metadata": {},
   "outputs": [
    {
     "data": {
      "text/plain": [
       "0    1\n",
       "1    2\n",
       "2    1\n",
       "3    4\n",
       "4    1\n",
       "5    2\n",
       "6    1\n",
       "7    3\n",
       "8    1\n",
       "9    1\n",
       "Name: Outlet_Type, dtype: int64"
      ]
     },
     "execution_count": 32,
     "metadata": {},
     "output_type": "execute_result"
    }
   ],
   "source": [
    "X['Outlet_Type'].head(10)"
   ]
  },
  {
   "cell_type": "code",
   "execution_count": 33,
   "metadata": {},
   "outputs": [
    {
     "name": "stdout",
     "output_type": "stream",
     "text": [
      "Int64Index([ 130,  145,  276,  304,  333,  373,  456,  472,  661,  694,  753,\n",
      "             809,  935,  991,  997, 1009, 1138, 1254, 1450, 1506, 1859, 1998,\n",
      "            2109, 2216, 2238, 2293, 2516, 2535, 2776, 3083, 3087, 3098, 3154,\n",
      "            3234, 3286, 3407, 3667, 3709, 3720, 3757, 4289, 4346, 4349, 4676,\n",
      "            4681, 4772, 4888, 4961, 4991, 5065, 5177, 5185, 5223, 5315, 5500,\n",
      "            5550, 5619, 5752, 5799, 5812, 5977, 6000, 6134, 6334, 6409, 6537,\n",
      "            6541, 6606, 6886, 6993, 7016, 7076, 7188, 7191, 7236, 7256, 7302,\n",
      "            7343, 7560, 7562, 7609, 7690, 7752, 7816, 7826, 7930, 8039, 8201,\n",
      "            8245, 8447],\n",
      "           dtype='int64')\n"
     ]
    }
   ],
   "source": [
    "def outliers(data, column):\n",
    "    mean_ = data[column].mean()\n",
    "    S_dev_ = data[column].std()\n",
    "    Upper_limit = mean_ + (3*S_dev_)\n",
    "    Lower_limit = mean_ - (3*S_dev_)\n",
    "    out = data[(data[column]>Upper_limit)|(data[column]<Lower_limit)].index\n",
    "    \n",
    "    data.drop(out, inplace = True)\n",
    "    data.reset_index(drop = True)\n",
    "    print(out)\n",
    "    \n",
    "outliers(X, 'Item_Outlet_Sales')        "
   ]
  },
  {
   "cell_type": "code",
   "execution_count": 34,
   "metadata": {},
   "outputs": [
    {
     "name": "stdout",
     "output_type": "stream",
     "text": [
      "<class 'pandas.core.frame.DataFrame'>\n",
      "Int64Index: 8433 entries, 0 to 8522\n",
      "Data columns (total 10 columns):\n",
      " #   Column                     Non-Null Count  Dtype  \n",
      "---  ------                     --------------  -----  \n",
      " 0   Item_Weight                8433 non-null   float64\n",
      " 1   Item_Fat_Content           8433 non-null   int64  \n",
      " 2   Item_Visibility            8433 non-null   float64\n",
      " 3   Item_Type                  8433 non-null   int64  \n",
      " 4   Item_MRP                   8433 non-null   float64\n",
      " 5   Outlet_Establishment_Year  8433 non-null   float64\n",
      " 6   Outlet_Size                8433 non-null   int64  \n",
      " 7   Outlet_Location_Type       8433 non-null   int64  \n",
      " 8   Outlet_Type                8433 non-null   int64  \n",
      " 9   Item_Outlet_Sales          8433 non-null   float64\n",
      "dtypes: float64(5), int64(5)\n",
      "memory usage: 724.7 KB\n"
     ]
    }
   ],
   "source": [
    "X.info()"
   ]
  },
  {
   "cell_type": "code",
   "execution_count": 35,
   "metadata": {},
   "outputs": [],
   "source": [
    "all_features = X[['Item_Weight', 'Item_Fat_Content', 'Item_Visibility', 'Item_Type', 'Item_MRP', 'Outlet_Establishment_Year', 'Outlet_Size', 'Outlet_Location_Type', 'Outlet_Type']].values\n",
    "all_labels = X['Item_Outlet_Sales'].values"
   ]
  },
  {
   "cell_type": "code",
   "execution_count": 36,
   "metadata": {},
   "outputs": [],
   "source": [
    "from sklearn.model_selection import train_test_split\n",
    "X_train, X_test, y_train, y_test = train_test_split(all_features, all_labels, test_size = 0.2, random_state = 1)"
   ]
  },
  {
   "cell_type": "code",
   "execution_count": 37,
   "metadata": {},
   "outputs": [
    {
     "name": "stdout",
     "output_type": "stream",
     "text": [
      "[-502.44936523  967.33214985 2501.05342407 ... 2302.34993255 1689.94023717\n",
      " 2443.74947564]\n",
      "1165.6005310642963\n",
      "1171.7149951441581\n",
      "29.976649197466358\n",
      "194.4136 -502.4493652280712\n",
      "1158.492 967.3321498494847\n",
      "2797.6916 2501.0534240731718\n",
      "2380.9008 2728.3515901554088\n",
      "4649.9472 3125.3689733756128\n",
      "1904.1879999999999 2813.7331410680977\n",
      "5690.5926 2609.1258155935416\n",
      "4138.6128 1851.183723873642\n",
      "1312.9576 481.27416241290484\n",
      "191.7504 -395.353903840994\n",
      "4008.116 2913.6937003699686\n",
      "5283.1230000000005 3726.2493232246893\n",
      "2324.9736 4046.476861363072\n",
      "801.6232 904.6510167059337\n",
      "1697.79 1512.3520803936833\n",
      "585.904 1583.8090564118654\n",
      "3630.6074 3278.105001966621\n",
      "667.1316 1567.4529003463208\n",
      "552.614 864.1279863730867\n",
      "820.2656 1596.372595260436\n",
      "4943.565 3077.761537985711\n",
      "770.3306 1076.055817449925\n",
      "1464.76 2040.2640126774047\n",
      "4848.3556 3073.6318173835457\n",
      "1366.2216 2519.2843474305\n",
      "3056.022 3050.2622230489533\n",
      "5195.2374 3328.58430268102\n",
      "6006.1818 3725.193510019442\n",
      "4963.539000000001 2423.7168503598305\n",
      "4789.7652 3132.582865948884\n",
      "3968.1679999999997 3105.7375244937784\n",
      "1549.9824 2349.901851520763\n",
      "369.519 653.7430147000623\n",
      "1362.2268 1049.8715571388566\n",
      "2187.153 2133.27037493816\n",
      "4364.319 2629.3255939315536\n",
      "5438.9202 4063.8016114745515\n",
      "1133.1916 811.4799742608388\n",
      "3169.208 4236.524943825229\n",
      "1868.2348 1183.2478503774423\n",
      "4961.5416 2510.8444305579515\n",
      "2239.7512 1958.612812802511\n",
      "1166.4816 2162.3306340016034\n",
      "2922.1962 2920.0498955164767\n",
      "488.6972 2229.775195951809\n",
      "1528.011 1722.5246821261387\n",
      "1619.2256 1872.2703802611104\n",
      "1061.951 297.33778393893317\n",
      "3078.6592 3182.9412084657615\n",
      "782.9808 586.0296874515088\n"
     ]
    }
   ],
   "source": [
    "from sklearn.linear_model import LinearRegression\n",
    "from sklearn.model_selection import cross_val_score\n",
    "from sklearn.metrics import mean_squared_error\n",
    "from sklearn.metrics import mean_absolute_error\n",
    "\n",
    "model = LinearRegression()\n",
    "model.fit(X_train, y_train)\n",
    "predictions = model.predict(X_test)\n",
    "print(predictions)\n",
    "\n",
    "score = -cross_val_score(model, all_features, all_labels, cv = 10, scoring = 'neg_mean_squared_error').mean()\n",
    "final = np.sqrt(score)\n",
    "print(final)\n",
    "\n",
    "print(np.sqrt(mean_squared_error(y_test, predictions)))\n",
    "print(np.sqrt(mean_absolute_error(y_test, predictions)))\n",
    "\n",
    "for i in range(50):\n",
    "    print(y_test[i], predictions[i])"
   ]
  },
  {
   "cell_type": "code",
   "execution_count": 38,
   "metadata": {},
   "outputs": [
    {
     "name": "stdout",
     "output_type": "stream",
     "text": [
      "[  20.02192147  739.34758765 1952.67205815 ... 2577.14396749 1141.37969951\n",
      " 2473.90106692]\n"
     ]
    }
   ],
   "source": [
    "import statsmodels.api as sm\n",
    "\n",
    "model = sm.OLS(y_train, X_train).fit()\n",
    "predict = model.predict(X_test)\n",
    "print(predict)        "
   ]
  },
  {
   "cell_type": "code",
   "execution_count": 39,
   "metadata": {},
   "outputs": [
    {
     "name": "stdout",
     "output_type": "stream",
     "text": [
      "[ 206.41684679 1529.44460999 2314.10845405 ... 1887.21326257 2016.01544009\n",
      " 1877.25301564]\n",
      "1408.8831170639412\n",
      "1426.5291872541113\n",
      "31.97396660461293\n",
      "194.4136 206.4168467922559\n",
      "1158.492 1529.444609985084\n",
      "2797.6916 2314.108454049516\n",
      "2380.9008 1908.8111465198442\n",
      "4649.9472 1844.7478715156542\n",
      "1904.1879999999999 1944.2316304010492\n",
      "5690.5926 1934.2346815785586\n",
      "4138.6128 1528.067524007264\n",
      "1312.9576 1476.1552401984648\n",
      "191.7504 152.42269935799732\n",
      "4008.116 2275.096890816589\n",
      "5283.1230000000005 1939.6127165426276\n",
      "2324.9736 2373.5092087354437\n",
      "801.6232 1554.9236356216425\n",
      "1697.79 1677.001869864593\n",
      "585.904 2124.18758787553\n",
      "3630.6074 2466.3209735649198\n",
      "667.1316 1683.5975891877847\n",
      "552.614 1542.2046550813811\n",
      "820.2656 1705.1801631668452\n",
      "4943.565 2136.544464266583\n",
      "770.3306 1697.1297828059544\n",
      "1464.76 1746.6622832328308\n",
      "4848.3556 1984.1764765153257\n",
      "1366.2216 2193.9754219877705\n",
      "3056.022 1801.5227934900558\n",
      "5195.2374 2487.2893483932976\n",
      "6006.1818 2465.572344619254\n",
      "4963.539000000001 1658.4434247064194\n",
      "4789.7652 2074.733765344488\n",
      "3968.1679999999997 2161.144613914955\n",
      "1549.9824 2262.909430881385\n",
      "369.519 465.6267887622621\n",
      "1362.2268 1338.9834433017593\n",
      "2187.153 1806.8745941917014\n",
      "4364.319 1935.3829037650617\n",
      "5438.9202 2395.864218503649\n",
      "1133.1916 1523.3621023899411\n",
      "3169.208 2587.3487884335\n",
      "1868.2348 1625.336970442062\n",
      "4961.5416 1905.758478389792\n",
      "2239.7512 2084.579631750903\n",
      "1166.4816 2252.8987007352725\n",
      "2922.1962 2399.412974901509\n",
      "488.6972 795.4237197751886\n",
      "1528.011 1758.3449094188677\n",
      "1619.2256 2165.524205554783\n",
      "1061.951 1424.0574694854072\n",
      "3078.6592 1826.940711434148\n",
      "782.9808 1477.6607405709296\n"
     ]
    }
   ],
   "source": [
    "from sklearn.svm import SVR\n",
    "from sklearn.metrics import mean_squared_error\n",
    "\n",
    "model = SVR(kernel = 'linear')\n",
    "model.fit(X_train, y_train)\n",
    "prediction = model.predict(X_test)\n",
    "print(prediction)\n",
    "\n",
    "score = -cross_val_score(model, all_features, all_labels, cv = 10, scoring = 'neg_mean_squared_error').mean()\n",
    "final = np.sqrt(score)\n",
    "print(final)\n",
    "\n",
    "print(np.sqrt(mean_squared_error(y_test, prediction)))\n",
    "print(np.sqrt(mean_absolute_error(y_test, prediction)))\n",
    "for i in range(50):\n",
    "    print(y_test[i], prediction[i])"
   ]
  },
  {
   "cell_type": "code",
   "execution_count": 40,
   "metadata": {},
   "outputs": [
    {
     "data": {
      "text/plain": [
       "['accuracy',\n",
       " 'adjusted_mutual_info_score',\n",
       " 'adjusted_rand_score',\n",
       " 'average_precision',\n",
       " 'balanced_accuracy',\n",
       " 'completeness_score',\n",
       " 'explained_variance',\n",
       " 'f1',\n",
       " 'f1_macro',\n",
       " 'f1_micro',\n",
       " 'f1_samples',\n",
       " 'f1_weighted',\n",
       " 'fowlkes_mallows_score',\n",
       " 'homogeneity_score',\n",
       " 'jaccard',\n",
       " 'jaccard_macro',\n",
       " 'jaccard_micro',\n",
       " 'jaccard_samples',\n",
       " 'jaccard_weighted',\n",
       " 'max_error',\n",
       " 'mutual_info_score',\n",
       " 'neg_brier_score',\n",
       " 'neg_log_loss',\n",
       " 'neg_mean_absolute_error',\n",
       " 'neg_mean_gamma_deviance',\n",
       " 'neg_mean_poisson_deviance',\n",
       " 'neg_mean_squared_error',\n",
       " 'neg_mean_squared_log_error',\n",
       " 'neg_median_absolute_error',\n",
       " 'neg_root_mean_squared_error',\n",
       " 'normalized_mutual_info_score',\n",
       " 'precision',\n",
       " 'precision_macro',\n",
       " 'precision_micro',\n",
       " 'precision_samples',\n",
       " 'precision_weighted',\n",
       " 'r2',\n",
       " 'recall',\n",
       " 'recall_macro',\n",
       " 'recall_micro',\n",
       " 'recall_samples',\n",
       " 'recall_weighted',\n",
       " 'roc_auc',\n",
       " 'roc_auc_ovo',\n",
       " 'roc_auc_ovo_weighted',\n",
       " 'roc_auc_ovr',\n",
       " 'roc_auc_ovr_weighted',\n",
       " 'v_measure_score']"
      ]
     },
     "execution_count": 40,
     "metadata": {},
     "output_type": "execute_result"
    }
   ],
   "source": [
    "import sklearn\n",
    "sorted(sklearn.metrics.SCORERS.keys())"
   ]
  },
  {
   "cell_type": "code",
   "execution_count": 41,
   "metadata": {},
   "outputs": [
    {
     "name": "stdout",
     "output_type": "stream",
     "text": [
      "[ 117.29126 1266.1818  2559.4668  ... 2518.3171   813.6399  2442.0808 ]\n",
      "27.745317223774553\n",
      "194.4136 117.29126\n",
      "1158.492 1266.1818\n",
      "2797.6916 2559.4668\n",
      "2380.9008 2987.9666\n",
      "4649.9472 5291.011\n",
      "1904.1879999999999 2849.0461\n",
      "5690.5926 2761.5808\n",
      "4138.6128 3327.6523\n",
      "1312.9576 448.60434\n",
      "191.7504 108.419556\n",
      "4008.116 2780.4004\n",
      "5283.1230000000005 5693.9233\n",
      "2324.9736 3179.325\n",
      "801.6232 871.88153\n",
      "1697.79 1964.8923\n",
      "585.904 996.2413\n",
      "3630.6074 3580.0425\n",
      "667.1316 1990.0917\n",
      "552.614 1030.6132\n",
      "820.2656 1748.4899\n",
      "4943.565 3397.9324\n",
      "770.3306 975.2332\n",
      "1464.76 2275.0442\n",
      "4848.3556 3540.9065\n",
      "1366.2216 1938.7654\n",
      "3056.022 4413.1636\n",
      "5195.2374 3126.9006\n",
      "6006.1818 3357.1396\n",
      "4963.539000000001 3248.7153\n",
      "4789.7652 2163.5498\n",
      "3968.1679999999997 2378.23\n",
      "1549.9824 1711.0824\n",
      "369.519 -46.217346\n",
      "1362.2268 663.38904\n",
      "2187.153 2145.0483\n",
      "4364.319 3617.93\n",
      "5438.9202 3573.5776\n",
      "1133.1916 756.5748\n",
      "3169.208 3932.0542\n",
      "1868.2348 1057.1493\n",
      "4961.5416 2177.6165\n",
      "2239.7512 1229.9524\n",
      "1166.4816 2146.907\n",
      "2922.1962 1738.659\n",
      "488.6972 993.0203\n",
      "1528.011 1853.8658\n",
      "1619.2256 1164.7126\n",
      "1061.951 399.87097\n",
      "3078.6592 4972.972\n",
      "782.9808 577.992\n"
     ]
    }
   ],
   "source": [
    "from xgboost import XGBRegressor\n",
    "from sklearn.metrics import mean_absolute_error\n",
    "\n",
    "XR = XGBRegressor()\n",
    "XR.fit(X_train, y_train)\n",
    "\n",
    "XR_Pred = XR.predict(X_test)\n",
    "print(XR_Pred)\n",
    "\n",
    "print(np.sqrt(mean_absolute_error(y_test, XR_Pred)))\n",
    "\n",
    "for i in range(50):\n",
    "    print(y_test[i], XR_Pred[i])"
   ]
  },
  {
   "cell_type": "code",
   "execution_count": 42,
   "metadata": {},
   "outputs": [
    {
     "data": {
      "text/html": [
       "<div>\n",
       "<style scoped>\n",
       "    .dataframe tbody tr th:only-of-type {\n",
       "        vertical-align: middle;\n",
       "    }\n",
       "\n",
       "    .dataframe tbody tr th {\n",
       "        vertical-align: top;\n",
       "    }\n",
       "\n",
       "    .dataframe thead th {\n",
       "        text-align: right;\n",
       "    }\n",
       "</style>\n",
       "<table border=\"1\" class=\"dataframe\">\n",
       "  <thead>\n",
       "    <tr style=\"text-align: right;\">\n",
       "      <th></th>\n",
       "      <th>Item_Weight</th>\n",
       "      <th>Item_Fat_Content</th>\n",
       "      <th>Item_Visibility</th>\n",
       "      <th>Item_Type</th>\n",
       "      <th>Item_MRP</th>\n",
       "      <th>Outlet_Establishment_Year</th>\n",
       "      <th>Outlet_Size</th>\n",
       "      <th>Outlet_Location_Type</th>\n",
       "      <th>Outlet_Type</th>\n",
       "      <th>Item_Outlet_Sales</th>\n",
       "    </tr>\n",
       "  </thead>\n",
       "  <tbody>\n",
       "    <tr>\n",
       "      <th>0</th>\n",
       "      <td>0.282525</td>\n",
       "      <td>1</td>\n",
       "      <td>0.048866</td>\n",
       "      <td>1</td>\n",
       "      <td>0.927507</td>\n",
       "      <td>0.583333</td>\n",
       "      <td>1</td>\n",
       "      <td>1</td>\n",
       "      <td>1</td>\n",
       "      <td>3735.1380</td>\n",
       "    </tr>\n",
       "    <tr>\n",
       "      <th>1</th>\n",
       "      <td>0.081274</td>\n",
       "      <td>0</td>\n",
       "      <td>0.058705</td>\n",
       "      <td>2</td>\n",
       "      <td>0.072068</td>\n",
       "      <td>1.000000</td>\n",
       "      <td>1</td>\n",
       "      <td>3</td>\n",
       "      <td>2</td>\n",
       "      <td>443.4228</td>\n",
       "    </tr>\n",
       "    <tr>\n",
       "      <th>2</th>\n",
       "      <td>0.770765</td>\n",
       "      <td>1</td>\n",
       "      <td>0.051037</td>\n",
       "      <td>3</td>\n",
       "      <td>0.468288</td>\n",
       "      <td>0.583333</td>\n",
       "      <td>1</td>\n",
       "      <td>1</td>\n",
       "      <td>1</td>\n",
       "      <td>2097.2700</td>\n",
       "    </tr>\n",
       "    <tr>\n",
       "      <th>3</th>\n",
       "      <td>0.871986</td>\n",
       "      <td>0</td>\n",
       "      <td>0.000000</td>\n",
       "      <td>7</td>\n",
       "      <td>0.640093</td>\n",
       "      <td>0.541667</td>\n",
       "      <td>3</td>\n",
       "      <td>3</td>\n",
       "      <td>4</td>\n",
       "      <td>732.3800</td>\n",
       "    </tr>\n",
       "    <tr>\n",
       "      <th>4</th>\n",
       "      <td>0.260494</td>\n",
       "      <td>1</td>\n",
       "      <td>0.000000</td>\n",
       "      <td>4</td>\n",
       "      <td>0.095805</td>\n",
       "      <td>0.083333</td>\n",
       "      <td>2</td>\n",
       "      <td>3</td>\n",
       "      <td>1</td>\n",
       "      <td>994.7052</td>\n",
       "    </tr>\n",
       "    <tr>\n",
       "      <th>5</th>\n",
       "      <td>0.347723</td>\n",
       "      <td>0</td>\n",
       "      <td>0.000000</td>\n",
       "      <td>5</td>\n",
       "      <td>0.085361</td>\n",
       "      <td>1.000000</td>\n",
       "      <td>1</td>\n",
       "      <td>3</td>\n",
       "      <td>2</td>\n",
       "      <td>556.6088</td>\n",
       "    </tr>\n",
       "    <tr>\n",
       "      <th>6</th>\n",
       "      <td>0.541530</td>\n",
       "      <td>0</td>\n",
       "      <td>0.038799</td>\n",
       "      <td>6</td>\n",
       "      <td>0.111923</td>\n",
       "      <td>0.083333</td>\n",
       "      <td>2</td>\n",
       "      <td>3</td>\n",
       "      <td>1</td>\n",
       "      <td>343.5528</td>\n",
       "    </tr>\n",
       "    <tr>\n",
       "      <th>7</th>\n",
       "      <td>0.502107</td>\n",
       "      <td>1</td>\n",
       "      <td>0.388165</td>\n",
       "      <td>6</td>\n",
       "      <td>0.324587</td>\n",
       "      <td>0.000000</td>\n",
       "      <td>1</td>\n",
       "      <td>3</td>\n",
       "      <td>3</td>\n",
       "      <td>4022.7636</td>\n",
       "    </tr>\n",
       "    <tr>\n",
       "      <th>8</th>\n",
       "      <td>0.693361</td>\n",
       "      <td>0</td>\n",
       "      <td>0.050815</td>\n",
       "      <td>10</td>\n",
       "      <td>0.278791</td>\n",
       "      <td>0.708333</td>\n",
       "      <td>3</td>\n",
       "      <td>2</td>\n",
       "      <td>1</td>\n",
       "      <td>1076.5986</td>\n",
       "    </tr>\n",
       "    <tr>\n",
       "      <th>9</th>\n",
       "      <td>0.871986</td>\n",
       "      <td>0</td>\n",
       "      <td>0.287613</td>\n",
       "      <td>10</td>\n",
       "      <td>0.664399</td>\n",
       "      <td>0.916667</td>\n",
       "      <td>3</td>\n",
       "      <td>2</td>\n",
       "      <td>1</td>\n",
       "      <td>4710.5350</td>\n",
       "    </tr>\n",
       "  </tbody>\n",
       "</table>\n",
       "</div>"
      ],
      "text/plain": [
       "   Item_Weight  Item_Fat_Content  Item_Visibility  Item_Type  Item_MRP  \\\n",
       "0     0.282525                 1         0.048866          1  0.927507   \n",
       "1     0.081274                 0         0.058705          2  0.072068   \n",
       "2     0.770765                 1         0.051037          3  0.468288   \n",
       "3     0.871986                 0         0.000000          7  0.640093   \n",
       "4     0.260494                 1         0.000000          4  0.095805   \n",
       "5     0.347723                 0         0.000000          5  0.085361   \n",
       "6     0.541530                 0         0.038799          6  0.111923   \n",
       "7     0.502107                 1         0.388165          6  0.324587   \n",
       "8     0.693361                 0         0.050815         10  0.278791   \n",
       "9     0.871986                 0         0.287613         10  0.664399   \n",
       "\n",
       "   Outlet_Establishment_Year  Outlet_Size  Outlet_Location_Type  Outlet_Type  \\\n",
       "0                   0.583333            1                     1            1   \n",
       "1                   1.000000            1                     3            2   \n",
       "2                   0.583333            1                     1            1   \n",
       "3                   0.541667            3                     3            4   \n",
       "4                   0.083333            2                     3            1   \n",
       "5                   1.000000            1                     3            2   \n",
       "6                   0.083333            2                     3            1   \n",
       "7                   0.000000            1                     3            3   \n",
       "8                   0.708333            3                     2            1   \n",
       "9                   0.916667            3                     2            1   \n",
       "\n",
       "   Item_Outlet_Sales  \n",
       "0          3735.1380  \n",
       "1           443.4228  \n",
       "2          2097.2700  \n",
       "3           732.3800  \n",
       "4           994.7052  \n",
       "5           556.6088  \n",
       "6           343.5528  \n",
       "7          4022.7636  \n",
       "8          1076.5986  \n",
       "9          4710.5350  "
      ]
     },
     "execution_count": 42,
     "metadata": {},
     "output_type": "execute_result"
    }
   ],
   "source": [
    "X.head(10)"
   ]
  }
 ],
 "metadata": {
  "kernelspec": {
   "display_name": "Python 3 (ipykernel)",
   "language": "python",
   "name": "python3"
  },
  "language_info": {
   "codemirror_mode": {
    "name": "ipython",
    "version": 3
   },
   "file_extension": ".py",
   "mimetype": "text/x-python",
   "name": "python",
   "nbconvert_exporter": "python",
   "pygments_lexer": "ipython3",
   "version": "3.8.12"
  }
 },
 "nbformat": 4,
 "nbformat_minor": 4
}
